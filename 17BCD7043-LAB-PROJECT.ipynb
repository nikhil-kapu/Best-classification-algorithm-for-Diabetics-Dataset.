{
  "nbformat": 4,
  "nbformat_minor": 0,
  "metadata": {
    "colab": {
      "name": "Untitled7.ipynb",
      "provenance": [],
      "collapsed_sections": [],
      "toc_visible": true
    },
    "kernelspec": {
      "name": "python3",
      "display_name": "Python 3"
    }
  },
  "cells": [
    {
      "cell_type": "code",
      "metadata": {
        "colab": {
          "base_uri": "https://localhost:8080/"
        },
        "id": "KOTU3FqdncF5",
        "outputId": "86fe3969-afd6-40e4-b2d1-a71845038e53"
      },
      "source": [
        "import pandas as pd\r\n",
        "import numpy as np\r\n",
        "from sklearn.model_selection import train_test_split\r\n",
        "colnames=['Pregencies', 'Glucose', 'BloodPressure',\r\n",
        "'SkinThickness','Insulin','BMI','DiabettesPedigreeFunction','Age','Outcome']\r\n",
        "diabetes = pd.read_csv('diabetes.data.csv', names=colnames, header=None)\r\n",
        "print(diabetes.head())\r\n",
        "df = pd.DataFrame(diabetes.iloc[:-1], columns=colnames[:-1])\r\n",
        "y = diabetes.Outcome # define the target variable (dependent variable) as y\r\n",
        "\r\n",
        "print('df_shape',df.shape)\r\n",
        "print('y_shape',y.shape)\r\n",
        "y = y[:-1]\r\n",
        "print('df_shape',df.shape)\r\n",
        "print('y_shape',y.shape)"
      ],
      "execution_count": 23,
      "outputs": [
        {
          "output_type": "stream",
          "text": [
            "   Pregencies  Glucose  BloodPressure  ...  DiabettesPedigreeFunction  Age  Outcome\n",
            "0           6      148             72  ...                      0.627   50        1\n",
            "1           1       85             66  ...                      0.351   31        0\n",
            "2           8      183             64  ...                      0.672   32        1\n",
            "3           1       89             66  ...                      0.167   21        0\n",
            "4           0      137             40  ...                      2.288   33        1\n",
            "\n",
            "[5 rows x 9 columns]\n",
            "df_shape (767, 8)\n",
            "y_shape (768,)\n",
            "df_shape (767, 8)\n",
            "y_shape (767,)\n"
          ],
          "name": "stdout"
        }
      ]
    },
    {
      "cell_type": "code",
      "metadata": {
        "colab": {
          "base_uri": "https://localhost:8080/"
        },
        "id": "uzYBObRonE6C",
        "outputId": "fd2bcd92-be28-4285-e955-7d57e5df5014"
      },
      "source": [
        "df['Pregencies'].nunique()\r\n"
      ],
      "execution_count": 24,
      "outputs": [
        {
          "output_type": "execute_result",
          "data": {
            "text/plain": [
              "17"
            ]
          },
          "metadata": {
            "tags": []
          },
          "execution_count": 24
        }
      ]
    },
    {
      "cell_type": "code",
      "metadata": {
        "colab": {
          "base_uri": "https://localhost:8080/"
        },
        "id": "54_4IqajpSdA",
        "outputId": "b85d546d-7da0-4f4a-bc60-4a8a4dab80bc"
      },
      "source": [
        "df['Glucose'].nunique()\r\n"
      ],
      "execution_count": 25,
      "outputs": [
        {
          "output_type": "execute_result",
          "data": {
            "text/plain": [
              "136"
            ]
          },
          "metadata": {
            "tags": []
          },
          "execution_count": 25
        }
      ]
    },
    {
      "cell_type": "code",
      "metadata": {
        "colab": {
          "base_uri": "https://localhost:8080/"
        },
        "id": "OsRhOL7PpUdA",
        "outputId": "b3bc2389-2f8e-430a-df03-40ca94373251"
      },
      "source": [
        "df['BloodPressure'].nunique()\r\n"
      ],
      "execution_count": 26,
      "outputs": [
        {
          "output_type": "execute_result",
          "data": {
            "text/plain": [
              "47"
            ]
          },
          "metadata": {
            "tags": []
          },
          "execution_count": 26
        }
      ]
    },
    {
      "cell_type": "code",
      "metadata": {
        "colab": {
          "base_uri": "https://localhost:8080/"
        },
        "id": "J0QOX2l-pWTK",
        "outputId": "b5798447-284b-4035-b563-7a5dde4bb11d"
      },
      "source": [
        "df['SkinThickness'].nunique()\r\n"
      ],
      "execution_count": 27,
      "outputs": [
        {
          "output_type": "execute_result",
          "data": {
            "text/plain": [
              "51"
            ]
          },
          "metadata": {
            "tags": []
          },
          "execution_count": 27
        }
      ]
    },
    {
      "cell_type": "code",
      "metadata": {
        "colab": {
          "base_uri": "https://localhost:8080/"
        },
        "id": "LMn6XzrFpXnR",
        "outputId": "00b456ae-2306-468f-8981-85488f429a99"
      },
      "source": [
        "df['Insulin'].nunique()\r\n"
      ],
      "execution_count": 28,
      "outputs": [
        {
          "output_type": "execute_result",
          "data": {
            "text/plain": [
              "186"
            ]
          },
          "metadata": {
            "tags": []
          },
          "execution_count": 28
        }
      ]
    },
    {
      "cell_type": "code",
      "metadata": {
        "colab": {
          "base_uri": "https://localhost:8080/"
        },
        "id": "nUk7U4XrpZBq",
        "outputId": "ca9dc5ea-7632-42c1-c89d-daf937e5c3e3"
      },
      "source": [
        "df['BMI'].nunique()\r\n"
      ],
      "execution_count": 29,
      "outputs": [
        {
          "output_type": "execute_result",
          "data": {
            "text/plain": [
              "248"
            ]
          },
          "metadata": {
            "tags": []
          },
          "execution_count": 29
        }
      ]
    },
    {
      "cell_type": "code",
      "metadata": {
        "colab": {
          "base_uri": "https://localhost:8080/"
        },
        "id": "qc6a7SH4pabo",
        "outputId": "2d5e8299-81c3-4423-b945-d85d982d657f"
      },
      "source": [
        "df['DiabettesPedigreeFunction'].nunique()\r\n"
      ],
      "execution_count": 30,
      "outputs": [
        {
          "output_type": "execute_result",
          "data": {
            "text/plain": [
              "517"
            ]
          },
          "metadata": {
            "tags": []
          },
          "execution_count": 30
        }
      ]
    },
    {
      "cell_type": "code",
      "metadata": {
        "colab": {
          "base_uri": "https://localhost:8080/"
        },
        "id": "CUmupXxBpb0w",
        "outputId": "91e7771e-6405-4cef-ecc1-d91aa138d91b"
      },
      "source": [
        "df['Age'].nunique()\r\n"
      ],
      "execution_count": 31,
      "outputs": [
        {
          "output_type": "execute_result",
          "data": {
            "text/plain": [
              "52"
            ]
          },
          "metadata": {
            "tags": []
          },
          "execution_count": 31
        }
      ]
    },
    {
      "cell_type": "markdown",
      "metadata": {
        "id": "aKrtz3J_opY5"
      },
      "source": [
        "## Dividing the dataset into test and train data"
      ]
    },
    {
      "cell_type": "code",
      "metadata": {
        "colab": {
          "base_uri": "https://localhost:8080/"
        },
        "id": "a8zp0aw-or6I",
        "outputId": "c184968f-754c-4948-fc85-9a43ba74310d"
      },
      "source": [
        "from sklearn.model_selection import train_test_split\r\n",
        "from sklearn.metrics import precision_score\r\n",
        "from sklearn.metrics import recall_score\r\n",
        "from sklearn.metrics import f1_score\r\n",
        "# Split dataset into training set and test set\r\n",
        "X_train, X_test, y_train, y_test = train_test_split(df,y, test_size=0.2,random_state=109)\r\n",
        "print('X_train',X_train.head())\r\n",
        "print('y_train',y_train.head())"
      ],
      "execution_count": 32,
      "outputs": [
        {
          "output_type": "stream",
          "text": [
            "X_train      Pregencies  Glucose  BloodPressure  ...   BMI  DiabettesPedigreeFunction  Age\n",
            "474           4      114             64  ...  28.9                      0.126   24\n",
            "297           0      126             84  ...  30.7                      0.520   24\n",
            "256           3      111             56  ...  30.1                      0.557   30\n",
            "15            7      100              0  ...  30.0                      0.484   32\n",
            "46            1      146             56  ...  29.7                      0.564   29\n",
            "\n",
            "[5 rows x 8 columns]\n",
            "y_train 474    0\n",
            "297    0\n",
            "256    0\n",
            "15     1\n",
            "46     0\n",
            "Name: Outcome, dtype: int64\n"
          ],
          "name": "stdout"
        }
      ]
    },
    {
      "cell_type": "markdown",
      "metadata": {
        "id": "1e58nahCo7eR"
      },
      "source": [
        "## Applying Classification Algorithm\r\n",
        "## 1) Gaussian NB"
      ]
    },
    {
      "cell_type": "code",
      "metadata": {
        "colab": {
          "base_uri": "https://localhost:8080/"
        },
        "id": "bunVNDPgpFZj",
        "outputId": "fa2d9c29-ce00-4a15-aa6c-6bd16c21b88d"
      },
      "source": [
        "from sklearn.naive_bayes import GaussianNB\r\n",
        "#Create a Gaussian Classifier\r\n",
        "gnb = GaussianNB()\r\n",
        "#Train the model using the training sets\r\n",
        "gnb.fit(X_train, y_train)\r\n",
        "#Predict the response for test dataset\r\n",
        "y_pred = gnb.predict(X_test)\r\n",
        "from sklearn import metrics\r\n",
        "# Model Accuracy, how often is the classifier correct?\r\n",
        "# Accuracy = (TP+TN)/(TP+FP+FN+TN)\r\n",
        "print(\"Accuracy:\",metrics.accuracy_score(y_test, y_pred))\r\n",
        "# Precision = TP/(TP+FP)\r\n",
        "precision = precision_score(y_test, y_pred)\r\n",
        "print('Precision: %f' % precision)\r\n",
        "# recall: tp / (tp + fn)\r\n",
        "recall = recall_score(y_test, y_pred)\r\n",
        "print('Recall: %f' % recall)\r\n",
        "# f1: 2 tp / (2 tp + fp + fn)\r\n",
        "f1 = f1_score(y_test, y_pred)\r\n",
        "print('F1 score: %f' % f1)"
      ],
      "execution_count": 33,
      "outputs": [
        {
          "output_type": "stream",
          "text": [
            "Accuracy: 0.7727272727272727\n",
            "Precision: 0.648649\n",
            "Recall: 0.521739\n",
            "F1 score: 0.578313\n"
          ],
          "name": "stdout"
        }
      ]
    },
    {
      "cell_type": "markdown",
      "metadata": {
        "id": "lp1lOqhipL5p"
      },
      "source": [
        "## 2) Decision Tree Classifier"
      ]
    },
    {
      "cell_type": "code",
      "metadata": {
        "colab": {
          "base_uri": "https://localhost:8080/"
        },
        "id": "WA0kJQnko-Z5",
        "outputId": "df8d886a-4b66-423a-c36d-de360a217b37"
      },
      "source": [
        "from sklearn.tree import DecisionTreeClassifier\r\n",
        "clf = DecisionTreeClassifier()\r\n",
        "# Train Decision Tree Classifer\r\n",
        "clf = clf.fit(X_train,y_train)\r\n",
        "#Predict the response for test dataset\r\n",
        "y_pred = clf.predict(X_test)\r\n",
        "print(\"Accuracy:\",metrics.accuracy_score(y_test, y_pred))\r\n",
        "precision = precision_score(y_test, y_pred)\r\n",
        "print('Precision: %f' % precision)\r\n",
        "# recall: tp / (tp + fn)\r\n",
        "recall = recall_score(y_test, y_pred)\r\n",
        "print('Recall: %f' % recall)\r\n",
        "# f1: 2 tp / (2 tp + fp + fn)\r\n",
        "f1 = f1_score(y_test, y_pred)\r\n",
        "print('F1 score: %f' % f1)"
      ],
      "execution_count": 34,
      "outputs": [
        {
          "output_type": "stream",
          "text": [
            "Accuracy: 0.7922077922077922\n",
            "Precision: 0.666667\n",
            "Recall: 0.608696\n",
            "F1 score: 0.636364\n"
          ],
          "name": "stdout"
        }
      ]
    },
    {
      "cell_type": "markdown",
      "metadata": {
        "id": "PTEF2dCmpYfY"
      },
      "source": [
        "## 3) KNN"
      ]
    },
    {
      "cell_type": "code",
      "metadata": {
        "colab": {
          "base_uri": "https://localhost:8080/"
        },
        "id": "NmI4N9bfpa4I",
        "outputId": "ae8c2818-dec9-4470-ba51-32f2c42059e8"
      },
      "source": [
        "from sklearn.neighbors import KNeighborsClassifier\r\n",
        "#Create KNN Classifier\r\n",
        "knn = KNeighborsClassifier(n_neighbors=5)\r\n",
        "#Train the model using the training sets\r\n",
        "knn.fit(X_train, y_train)\r\n",
        "#Predict the response for test dataset\r\n",
        "y_pred = knn.predict(X_test)\r\n",
        "from sklearn import metrics\r\n",
        "# Model Accuracy, how often is the classifier correct?\r\n",
        "print(\"Accuracy:\",metrics.accuracy_score(y_test, y_pred))\r\n",
        "precision = precision_score(y_test, y_pred)\r\n",
        "print('Precision: %f' % precision)\r\n",
        "# recall: tp / (tp + fn)\r\n",
        "recall = recall_score(y_test, y_pred)\r\n",
        "print('Recall: %f' % recall)\r\n",
        "# f1: 2 tp / (2 tp + fp + fn)\r\n",
        "f1 = f1_score(y_test, y_pred)\r\n",
        "print('F1 score: %f' % f1)"
      ],
      "execution_count": 35,
      "outputs": [
        {
          "output_type": "stream",
          "text": [
            "Accuracy: 0.7272727272727273\n",
            "Precision: 0.547619\n",
            "Recall: 0.500000\n",
            "F1 score: 0.522727\n"
          ],
          "name": "stdout"
        }
      ]
    },
    {
      "cell_type": "markdown",
      "metadata": {
        "id": "3-N02xjwpjYg"
      },
      "source": [
        "## 4) Logistic Regression"
      ]
    },
    {
      "cell_type": "code",
      "metadata": {
        "colab": {
          "base_uri": "https://localhost:8080/"
        },
        "id": "qR49zIVbpqXx",
        "outputId": "6f46a7c8-49df-4867-fbc2-fde7b12eb651"
      },
      "source": [
        "from sklearn.linear_model import LogisticRegression\r\n",
        "# instantiate the model (using the default parameters)\r\n",
        "logreg = LogisticRegression()\r\n",
        "# fit the model with data\r\n",
        "logreg.fit(X_train,y_train)\r\n",
        "#\r\n",
        "y_pred=logreg.predict(X_test)\r\n",
        "from sklearn import metrics\r\n",
        "cnf_matrix = metrics.confusion_matrix(y_test, y_pred)\r\n",
        "cnf_matrix\r\n",
        "print(\"Accuracy:\",metrics.accuracy_score(y_test, y_pred))\r\n",
        "print(\"Precision:\",metrics.precision_score(y_test, y_pred))\r\n",
        "print(\"Recall:\",metrics.recall_score(y_test, y_pred))\r\n",
        "f1 = f1_score(y_test, y_pred)\r\n",
        "print('F1 score: %f' % f1)"
      ],
      "execution_count": 36,
      "outputs": [
        {
          "output_type": "stream",
          "text": [
            "Accuracy: 0.7857142857142857\n",
            "Precision: 0.696969696969697\n",
            "Recall: 0.5\n",
            "F1 score: 0.582278\n"
          ],
          "name": "stdout"
        },
        {
          "output_type": "stream",
          "text": [
            "/usr/local/lib/python3.6/dist-packages/sklearn/linear_model/_logistic.py:940: ConvergenceWarning: lbfgs failed to converge (status=1):\n",
            "STOP: TOTAL NO. of ITERATIONS REACHED LIMIT.\n",
            "\n",
            "Increase the number of iterations (max_iter) or scale the data as shown in:\n",
            "    https://scikit-learn.org/stable/modules/preprocessing.html\n",
            "Please also refer to the documentation for alternative solver options:\n",
            "    https://scikit-learn.org/stable/modules/linear_model.html#logistic-regression\n",
            "  extra_warning_msg=_LOGISTIC_SOLVER_CONVERGENCE_MSG)\n"
          ],
          "name": "stderr"
        }
      ]
    }
  ]
}